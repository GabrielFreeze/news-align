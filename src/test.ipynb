{
 "cells": [
  {
   "cell_type": "code",
   "execution_count": 24,
   "metadata": {},
   "outputs": [],
   "source": [
    "\n",
    "import requests\n",
    "import chromadb\n",
    "from base64 import b64encode\n",
    "from common.payload import data2id\n",
    "from common.article_scraper import ArticleScraper\n",
    "from vector_db.utils import ImageEmbeddingFunction, TextEmbeddingFunction, format_document\n",
    "\n",
    "\n",
    "\n",
    "client = chromadb.HttpClient(host=\"localhost\",port=8000)\n",
    "\n",
    "#Initialise Image Vector Database\n",
    "text_fn = TextEmbeddingFunction(remote=True)\n",
    "text_collection = client.get_or_create_collection(name=\"text_collection\",embedding_function=text_fn)\n",
    "\n",
    "#Initialise Image Vector Database\n",
    "img_fn = ImageEmbeddingFunction()\n",
    "img_collection = client.get_or_create_collection(name=\"img_collection\",embedding_function=img_fn)\n",
    "\n",
    "headers = {'User-Agent':\"Mozilla/5.0 (Windows NT 10.0; Win64; x64) AppleWebKit/537.36 (KHTML, like Gecko) Chrome/123.0.6312.86 Safari/537.36\"}\n",
    "\n",
    "#To get query articles\n",
    "articleScraper = ArticleScraper()\n",
    "\n",
    "img_url = \"https://cdn-attachments.timesofmalta.com/7b5555e18fb677fc34aa52cfa5c6c4332f500f2e-1715342220-dce7604f-960x640.jpg\"\n",
    "img_data = requests.get(img_url,\n",
    "                        headers=headers).content\n",
    "img_bytestring = b64encode(img_data).decode(\"ascii\")\n"
   ]
  },
  {
   "cell_type": "code",
   "execution_count": 29,
   "metadata": {},
   "outputs": [
    {
     "data": {
      "text/plain": [
       "{'ids': ['60a1b1cf2120a03c06f81cdeb15a3caf'],\n",
       " 'embeddings': None,\n",
       " 'metadatas': [{'body': 'Former book council chair Mark Camilleri is in discussions with the government over his possible return to the council as a consultant, the author told Times of Malta\\xa0on Friday.\\n “There are problems in the council, and I will go and do the job that has been lacking for the past three years,” Camilleri said.\\n “Nothing has yet been decided. I have not signed anything, and discussions are still ongoing.”\\n His comments come after MaltaToday reported that Camilleri will return to the council as a consultant and will be paid a salary in the range of €30,000 a year. Sources told\\xa0 MaltaToday he will be allowed to work remotely.\\n Camilleri led the National Book Council for several years until his contract was not renewed by the Education Ministry in 2021, a year after he clashed with then-education minister Justyne Caruana.\\n Since then, he has been highly critical of the council and his successor as chair, who is also called Mark Camilleri.\\xa0\\n When asked on Friday to confirm whether he will be returning to the council, Camilleri Times of Malta he is in discussions with the Education Minister.\\n \"Nothing is signed on paper and the [MaltaToday] report is just words,\" he said.\\n \"If I get a contract related to my actual work and which can help me grow, why not?\" he added.\\xa0\\n In a Facebook post, Camilleri slammed MaltaToday\\'s report, questioning why the paper ignored his investigations on Prime Minster Robert Abela. He said  MaltaToday did not contact him for comments.\\n \"Is it because they are fully funded by the government?\" he asked.\\n \"MaltaToday as a Labour Party newspaper has done its best to consistently attack and smear me while ignoring my investigative stories.\"\\n  Camilleri told\\xa0Times of Malta\\xa0that even if an agreement was reached, \"there will be no changes to what I do\", and he will continue with his investigative work.\\xa0\\n Camilleri\\'s troubles with the council began in 2020, when then-education minister Justyne Caruana pushed for him to resign following a public spat with one of the lawyers representing alleged Daphne Caruana Galizia murder conspirator Yorgen Fenech.\\xa0\\n He was ousted a year later and then branched out on his own. He runs a personal blog as well as an independent publishing house, Dar Camilleri, which was launched in 2021.\\n That same year he published A Rent Seeker’s Paradise alleging corruption and bad governance by the Labour government.\\xa0\\n In the book, Camilleri claims that Rosianne Cutajar had an affair with Fenech to get a leg up in her political career and that she had received “corrupt money” from him. Cutajar is suing Camilleri overthe claims.\\xa0\\n He subsequently published transcripts of more than 2,200 WhatsApp messages between Cutajar and Fenech claiming the two were intimate and on very close terms.\\n',\n",
       "   'img_ids': '25413adabdbe62879fea947924b4de22',\n",
       "   'newspaper': 'timesofmalta',\n",
       "   'title': 'Mark Camilleri in talks with government to return to National Book Council',\n",
       "   'url': 'https://timesofmalta.com/article/mark-camilleri-discussions-government-return-national-book-council.1092268'}],\n",
       " 'documents': ['search_document:Mark Camilleri in talks with government to return to National Book Council. Former book council chair Mark Camilleri is in discussions with the government over his possible return to the council as a consultant, the author told Times of Malta\\xa0on Friday.\\n “There are problems in the council, and I will go and do the job that has been lacking for the past three years,” Camilleri said.\\n “Nothing has yet been decided. I have not signed anything, and discussions are still ongoing.”\\n His comments come after MaltaToday reported that Camilleri will return to the council as a consultant and will be paid a salary in the range of €30,000 a year. Sources told\\xa0 MaltaToday he will be allowed to work remotely.\\n Camilleri led the National Book Council for several years until his contract was not renewed by the Education Ministry in 2021, a year after he clashed with then-education minister Justyne Caruana.\\n Since then, he has been highly critical of the council and his successor as chair, who is also called Mark Camilleri.\\xa0\\n When asked on Friday to confirm whether he will be returning to the council, Camilleri Times of Malta he is in discussions with the Education Minister.\\n \"Nothing is signed on paper and the [MaltaToday] report is just words,\" he said.\\n \"If I get a contract related to my actual work and which can help me grow, why not?\" he added.\\xa0\\n In a Facebook post, Camilleri slammed MaltaToday\\'s report, questioning why the paper ignored his investigations on Prime Minster Robert Abela. He said  MaltaToday did not contact him for comments.\\n \"Is it because they are fully funded by the government?\" he asked.\\n \"MaltaToday as a Labour Party newspaper has done its best to consistently attack and smear me while ignoring my investigative stories.\"\\n  Camilleri told\\xa0Times of Malta\\xa0that even if an agreement was reached, \"there will be no changes to what I do\", and he will continue with his investigative work.\\xa0\\n Camilleri\\'s troubles with the council began in 2020, when then-education minister Justyne Caruana pushed for him to resign following a public spat with one of the lawyers representing alleged Daphne Caruana Galizia murder conspirator Yorgen Fenech.\\xa0\\n He was ousted a year later and then branched out on his own. He runs a personal blog as well as an independent publishing house, Dar Camilleri, which was launched in 2021.\\n That same year he published A Rent Seeker’s Paradise alleging corruption and bad governance by the Labour government.\\xa0\\n In the book, Camilleri claims that Rosianne Cutajar had an affair with Fenech to get a leg up in her political career and that she had received “corrupt money” from him. Cutajar is suing Camilleri overthe claims.\\xa0\\n He subsequently published transcripts of more than 2,200 WhatsApp messages between Cutajar and Fenech claiming the two were intimate and on very close terms.\\n. [\"Blogger and former National Book Council chairperson Mark Camilleri in 2023. Photo: Matthew Mirabelli\"]'],\n",
       " 'data': None,\n",
       " 'uris': None}"
      ]
     },
     "execution_count": 29,
     "metadata": {},
     "output_type": "execute_result"
    }
   ],
   "source": [
    "text_collection.get(ids=\"60a1b1cf2120a03c06f81cdeb15a3caf\")"
   ]
  },
  {
   "cell_type": "code",
   "execution_count": 25,
   "metadata": {},
   "outputs": [
    {
     "name": "stdout",
     "output_type": "stream",
     "text": [
      "!\n",
      "@@\n"
     ]
    }
   ],
   "source": [
    "a = img_collection.query(query_embeddings=img_fn(img_bytestring))"
   ]
  },
  {
   "cell_type": "code",
   "execution_count": 28,
   "metadata": {},
   "outputs": [
    {
     "data": {
      "text/plain": [
       "[[{'article_ids': '[\"60a1b1cf2120a03c06f81cdeb15a3caf\"]',\n",
       "   'captions': '[\"Blogger and former National Book Council chairperson Mark Camilleri in 2023. Photo: Matthew Mirabelli\"]',\n",
       "   'selectors': '[\".ar-ArticleHeader-Standard_sub > picture > img\"]'},\n",
       "  {'article_ids': '[\"09fa18abf1f361721d6795353f9f9479\"]',\n",
       "   'captions': '[\"The previously secret contents of Ryan Spagnol\\'s lucrative cabinet contract have been revealed.\"]',\n",
       "   'selectors': '[\"div.featured_posts img\"]'},\n",
       "  {'article_ids': '[\"554a51c3c34a7ae543bf1ba615fa7d3c\"]',\n",
       "   'captions': '[\"Joseph Muscat leaving court last week. Photo: Matthew Mirabelli\"]',\n",
       "   'selectors': '[\".ar-ArticleHeader-Standard_sub > picture > img\"]'},\n",
       "  {'article_ids': '[\"82a5e56f7672e8f24d93aa2c3161df05\"]',\n",
       "   'captions': '[\"Kurt Buhagiar with his lawyers.\"]',\n",
       "   'selectors': '[\"div.featured_posts img\"]'},\n",
       "  {'article_ids': '[\"4ec3df065cf70e541def77cd761fbcce\"]',\n",
       "   'captions': '[\"Prime Minister Robert Abela\\\\u2019s Chief of Staff Glenn Micallef and his wife Nadine.\"]',\n",
       "   'selectors': '[\"div.wp-caption img\"]'},\n",
       "  {'article_ids': '[\"3330a304cc48bb3329df554b4ae3b195\"]',\n",
       "   'captions': '[\"Prime Minister Robert Abela. \"]',\n",
       "   'selectors': '[\"div.featured_posts img\"]'},\n",
       "  {'article_ids': '[\"1d546a0e691f01bb85f2c9ba6c3a3015\"]',\n",
       "   'captions': '[\"MFSA CEO Kenneth Farrugia\"]',\n",
       "   'selectors': '[\"div.wp-caption img\"]'},\n",
       "  {'article_ids': '[\"517c321e3934a5d13739bc1a80c80c05\"]',\n",
       "   'captions': '[\"Left to right: Paul Borg Olivier, Francis Zammit Dimech and Michael Piccinino after filing the court case this morning.\"]',\n",
       "   'selectors': '[\"div.featured_posts img\"]'},\n",
       "  {'article_ids': '[\"7004ee360f427062e8584c0dd2c79710\"]',\n",
       "   'captions': '[\"\"]',\n",
       "   'selectors': '[\"div.featured_posts img\"]'},\n",
       "  {'article_ids': '[\"3813eca20c2190fe0590aebfd9476810\"]',\n",
       "   'captions': '[\"Kurt Farrugia with former disgraced PM Muscat\"]',\n",
       "   'selectors': '[\"div.wp-caption img\"]'}]]"
      ]
     },
     "execution_count": 28,
     "metadata": {},
     "output_type": "execute_result"
    }
   ],
   "source": [
    "a['metadatas']"
   ]
  },
  {
   "cell_type": "code",
   "execution_count": 6,
   "metadata": {},
   "outputs": [
    {
     "name": "stdout",
     "output_type": "stream",
     "text": [
      "0.14\tMan dies after traffic accident in Swieqi - https://timesofmalta.com/article/man-dies-traffic-accident-swieqi.1090488\n",
      "0.22\tMan dies after Swieqi car crash - https://www.maltatoday.com.mt//news/national/128475/man_dies_after_swieqi_car_crash\n",
      "0.4\tMan injured in Żebbuġ accident - https://timesofmalta.com/article/man-injured-zebbug-accident.1087372\n",
      "0.42\tMan in hospital after traffic accident in Regional Road - https://www.maltatoday.com.mt//news/national/127462/man_in_hospital_after_traffic_accident_in_regional_road\n",
      "0.44\tMan, 35, hit by car in Swieqi - https://timesofmalta.com/article/man-35-hit-car-swieqi.1041104\n",
      "0.46\tTwo men injured in separate traffic accidents - https://timesofmalta.com/article/two-men-injured-separate-traffic-accidents.1031498\n",
      "0.47\tDriver seriously injured in three-vehicle crash in St Julian's - https://timesofmalta.com/article/driver-seriously-injured-threevehicle-crash-st-julian.1083528\n",
      "0.49\tMotorcyclist, 73, dies at hospital following Żebbuġ crash - https://timesofmalta.com/article/motorcyclist-73-dies-hospital-following-zebbug-crash.1055827\n",
      "0.5\tMotorcyclist grievously injured in Swieqi - https://timesofmalta.com/article/motorcyclist-grievously-injured-swieqi.1019935\n",
      "0.5\tMan, 22, grievously injured in Siġġiewi traffic accident - https://timesofmalta.com/article/man-22-grievously-injured-siggiewi-traffic-accident.1041527\n"
     ]
    }
   ],
   "source": [
    "query_payload = articleScraper.scrape(\n",
    "    \"https://timesofmalta.com/article/man-dies-traffic-accident-swieqi.1090488\"\n",
    ")\n",
    "if query_payload.error:\n",
    "    print(query_payload.error)\n",
    "\n",
    "query_document = format_document(query_payload.data,query=True)    \n",
    "\n",
    "x = text_collection.query(\n",
    "    query_texts=query_document\n",
    ")\n",
    "for d,m in zip(x['distances'][0],x['metadatas'][0]):\n",
    "    print(f\"{round(d,2)}\\t{m['title']} - {m['url']}\")"
   ]
  }
 ],
 "metadata": {
  "kernelspec": {
   "display_name": "web-ext",
   "language": "python",
   "name": "python3"
  },
  "language_info": {
   "codemirror_mode": {
    "name": "ipython",
    "version": 3
   },
   "file_extension": ".py",
   "mimetype": "text/x-python",
   "name": "python",
   "nbconvert_exporter": "python",
   "pygments_lexer": "ipython3",
   "version": "3.9.19"
  }
 },
 "nbformat": 4,
 "nbformat_minor": 2
}
