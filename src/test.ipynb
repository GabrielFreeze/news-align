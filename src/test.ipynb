{
 "cells": [
  {
   "cell_type": "code",
   "execution_count": 1,
   "metadata": {},
   "outputs": [
    {
     "name": "stderr",
     "output_type": "stream",
     "text": [
      "c:\\Users\\User\\anaconda3\\envs\\vectordb\\lib\\site-packages\\tqdm\\auto.py:21: TqdmWarning: IProgress not found. Please update jupyter and ipywidgets. See https://ipywidgets.readthedocs.io/en/stable/user_install.html\n",
      "  from .autonotebook import tqdm as notebook_tqdm\n",
      "c:\\Users\\User\\anaconda3\\envs\\vectordb\\lib\\site-packages\\huggingface_hub\\file_download.py:1132: FutureWarning: `resume_download` is deprecated and will be removed in version 1.0.0. Downloads always resume when possible. If you want to force a new download, use `force_download=True`.\n",
      "  warnings.warn(\n",
      "<All keys matched successfully>\n"
     ]
    }
   ],
   "source": [
    "import os\n",
    "import chromadb\n",
    "import numpy as np\n",
    "from PIL import Image\n",
    "from common.article_scraper import ArticleScraper\n",
    "from vector_db.utils import ImageEmbeddingFunction, TextEmbeddingFunction, format_document\n",
    "\n",
    "client = chromadb.PersistentClient(path=os.path.join(\"vector_db\",\"vector_db\"))\n",
    "\n",
    "#Initialise Text Vector Database\n",
    "text_fn = TextEmbeddingFunction()\n",
    "text_collection = client.get_or_create_collection(name=\"text_collection\",embedding_function=text_fn)\n",
    "\n",
    "#Initialise Image Vector Database\n",
    "img_fn = ImageEmbeddingFunction()\n",
    "img_collection = client.get_or_create_collection(name=\"img_collection\",embedding_function=img_fn)\n",
    "\n",
    "#To get query articles\n",
    "articleScraper = ArticleScraper()\n",
    "\n",
    "test_img = np.array(Image.open(\"img_2.jpg\"))\n"
   ]
  },
  {
   "cell_type": "code",
   "execution_count": 6,
   "metadata": {},
   "outputs": [
    {
     "name": "stdout",
     "output_type": "stream",
     "text": [
      "0.2238815426826477 Man dies after Swieqi car crash\n",
      "0.4240127205848694 Man in hospital after traffic accident in Regional Road\n",
      "0.5495119690895081 Toddler and Transport Malta worker sustain grievous injuries after two separate accidents\n",
      "0.5752490758895874 Motorcyclist injured in Marsa collision with car\n",
      "0.5798760056495667 Woman hospitalised after traffic accident involving forklift in Imqabba\n",
      "0.5967904329299927 Man in critical condition after van toppled over and hit him\n",
      "0.597992479801178 Accident near St Julian's tunnels paralyses Maltese roads as traffic stretches on to Żejtun\n",
      "0.6013765335083008 Updated | Elderly woman, 80, dies after getting caught under coach wheels in Ħal Far\n",
      "0.6172170042991638 Motorcyclist grievously injured in Fgura crash\n",
      "0.624396562576294 Elderly man grievously injured after being hit by car driven by a 74-year-old woman\n"
     ]
    }
   ],
   "source": [
    "query_payload = articleScraper.scrape(\n",
    "    \"https://timesofmalta.com/article/man-dies-traffic-accident-swieqi.1090488\"\n",
    ")\n",
    "if query_payload.error:\n",
    "    print(query_payload.error)\n",
    "\n",
    "query_document = format_document(query_payload.data,query=True)    \n",
    "\n",
    "x = text_collection.query(\n",
    "    query_texts=query_document\n",
    ")\n",
    "for d,m in zip(x['distances'][0],x['metadatas'][0]):\n",
    "    print(d,m['title'])"
   ]
  },
  {
   "cell_type": "code",
   "execution_count": 10,
   "metadata": {},
   "outputs": [
    {
     "name": "stdout",
     "output_type": "stream",
     "text": [
      "Former prime minister Joseph Muscat leaving court earlier this week. Photo: Matthew Mirabelli\n",
      "https://timesofmalta.com/article/joseph-muscat-asks-police-commissioner-call-questioning.1091890\n",
      "\n",
      "Ex-prime minister Joseph Muscat, centre, is expected to be charged over the hospitals’ deal. Photo: Matthew Mirabelli\n",
      "https://timesofmalta.com/article/hospitals-deal-how-get-here.1091958\n",
      "\n",
      "Former prime minister Joseph Muscat (left) and his chief of staff Keith Schembri (right)\n",
      "https://www.maltatoday.com.mt//news/national/128573/pn_police_attorney_general_must_prosecute_keith_schembri_and_joseph_muscat\n",
      "\n",
      "\n",
      "https://www.maltatoday.com.mt//news/national/128877/abela_warns_judiciary_not_to_engage_in_political_terrorism\n",
      "\n",
      "Mizzi&rsquo;s successor as health minister Chris Fearne as well as ex-finance minister Edward Scicluna are also reportedly facing the prospects of criminal charges.\n",
      "https://timesofmalta.com/article/hospitals-deal-how-get-here.1091958\n",
      "\n",
      "Addressing a press conference outside the courthouse on Friday, PN Secretary General Michael Piccinino, flanked by shadow minister Karol Aquilina and Charles Bonello president of PN college of local councillors, told reporters that 99 court applications had been filed\n",
      "https://www.maltatoday.com.mt//news/national/128853/pn_claims_voters_were_registered_at_siiewi_social_housing_still_in_shell_form_\n",
      "\n",
      "Chris Fearne and Edward Scicluna. Photos: Matthew Mirabelli/Central Bank\n",
      "https://timesofmalta.com/article/chris-fearne-edward-scicluna-likely-face-lesser-charges-vitals-deal.1091866\n",
      "\n",
      "Prime Minister Robert Abela \n",
      "https://www.maltatoday.com.mt//news/national/128919/watch_abela_doubles_down_on_political_terrorism_remarks_magistrate_purposely_chose_start_of_election_campaign_to_conclude_inquiry\n",
      "\n",
      " Konrad Mizzi was Health Minister back in 2015 when the deal was originally signed (Photo: James Bianchi/MaltaToday) \n",
      "https://www.maltatoday.com.mt//news/national/128927/hospitals_inquiry_the_political_protagonists_in_the_crosshairs\n",
      "\n",
      "The main political protagonists in the hospitals deal\n",
      "https://www.maltatoday.com.mt//news/national/128927/hospitals_inquiry_the_political_protagonists_in_the_crosshairs\n",
      "\n"
     ]
    }
   ],
   "source": [
    "x = img_collection.query(\n",
    "    query_embeddings=img_fn(test_img)\n",
    ")\n",
    "\n",
    "captions = [img[\"caption\"] for img in x[\"metadatas\"][0]]\n",
    "article_ids = [img['article_id'] for img in x[\"metadatas\"][0]]\n",
    "\n",
    "articles = []\n",
    "for id in article_ids:\n",
    "    articles.append(\n",
    "        text_collection.get(ids=id)['metadatas'][0]['url']\n",
    "    )\n",
    "\n",
    "for c,a in zip(captions,articles):\n",
    "    print(f'{c}\\n{a}\\n')"
   ]
  },
  {
   "cell_type": "code",
   "execution_count": 6,
   "metadata": {},
   "outputs": [
    {
     "data": {
      "text/plain": [
       "{'ids': ['6d1a695ac3b4e94b9ab60a5dbcaec544'],\n",
       " 'embeddings': None,\n",
       " 'metadatas': [{'body': \"Former prime minister Joseph Muscat has written to Police Commissioner Angelo Gafa asking that he is called in for questioning over the hospitals' inquiry.\\n In a Facebook post on Friday, Muscat said he was prepared to answer every question related to the inquiry, as tension mounts over the hospitals debacle.\\n “I have nothing to hide, and have no qualms with being transparent… I wrote to the police commissioner and told him to call me in as soon as possible and as soon as he has the conclusions of the Attorney General on the hospitals' inquiry, [so I can] answer any question he may have and show the facts,” he said.\\n “As I already said this is another Egrant (the secret Panama company he was linked to). This is a political vendetta against me and my family. I will remain determined that the truth will come out,” he added.\\n It emerged on Tuesday that a magisterial inquiry into Muscat and other ministers’ role in the Vitals deal to privatise three state hospitals had been concluded.\\n  Attorney General Victoria Buttigieg is now in the process of analysing the inquiry and the 78 boxes of evidence it involved, to decide whether or not to file criminal charges against people named in it.\\n Muscat's written request to the police commissioner is superfluous: investigators question criminal suspects of their own accord and do not require any request to do so.\\xa0\\xa0\\n Muscat, who has spent the past year battling the inquiry, described it as a personal “vendetta” and accused the magistrate leading it, Gabriella Vella, of waging war against himself and the Labour Party.\\n In a press conference on Tuesday, he said: “The institutions are working – working against Labourites.” He also said he had “no doubt” he would face criminal charges as a result of the probe, but said he had nothing to fear.\\n “If justice exists, I will be a free man and then receive compensation for damages suffered,” he says. “I know I did nothing wrong.” \\xa0\\n It is not the first time that Muscat has asked\\xa0the police commissioner to get involved in the case: last November, in an interview with Labour shill Manuel Cuschieri, he said that he wanted the commissioner to investigate the deal of his own accord.\\n\",\n",
       "   'img_ids': 'fac0d6c77e41d0e66ca911d8c70edf1f',\n",
       "   'newspaper': 'timesofmalta',\n",
       "   'title': 'Joseph Muscat asks Police Commissioner to call him in for questioning',\n",
       "   'url': 'https://timesofmalta.com/article/joseph-muscat-asks-police-commissioner-call-questioning.1091890'}],\n",
       " 'documents': ['search_document:Joseph Muscat asks Police Commissioner to call him in for questioning. Former prime minister Joseph Muscat has written to Police Commissioner Angelo Gafa asking that he is called in for questioning over the hospitals\\' inquiry.\\n In a Facebook post on Friday, Muscat said he was prepared to answer every question related to the inquiry, as tension mounts over the hospitals debacle.\\n “I have nothing to hide, and have no qualms with being transparent… I wrote to the police commissioner and told him to call me in as soon as possible and as soon as he has the conclusions of the Attorney General on the hospitals\\' inquiry, [so I can] answer any question he may have and show the facts,” he said.\\n “As I already said this is another Egrant (the secret Panama company he was linked to). This is a political vendetta against me and my family. I will remain determined that the truth will come out,” he added.\\n It emerged on Tuesday that a magisterial inquiry into Muscat and other ministers’ role in the Vitals deal to privatise three state hospitals had been concluded.\\n  Attorney General Victoria Buttigieg is now in the process of analysing the inquiry and the 78 boxes of evidence it involved, to decide whether or not to file criminal charges against people named in it.\\n Muscat\\'s written request to the police commissioner is superfluous: investigators question criminal suspects of their own accord and do not require any request to do so.\\xa0\\xa0\\n Muscat, who has spent the past year battling the inquiry, described it as a personal “vendetta” and accused the magistrate leading it, Gabriella Vella, of waging war against himself and the Labour Party.\\n In a press conference on Tuesday, he said: “The institutions are working – working against Labourites.” He also said he had “no doubt” he would face criminal charges as a result of the probe, but said he had nothing to fear.\\n “If justice exists, I will be a free man and then receive compensation for damages suffered,” he says. “I know I did nothing wrong.” \\xa0\\n It is not the first time that Muscat has asked\\xa0the police commissioner to get involved in the case: last November, in an interview with Labour shill Manuel Cuschieri, he said that he wanted the commissioner to investigate the deal of his own accord.\\n. [\"Former prime minister Joseph Muscat leaving court earlier this week. Photo: Matthew Mirabelli\"]'],\n",
       " 'uris': None,\n",
       " 'data': None}"
      ]
     },
     "execution_count": 6,
     "metadata": {},
     "output_type": "execute_result"
    }
   ],
   "source": [
    "text_collection.get(ids=article_ids[0])"
   ]
  }
 ],
 "metadata": {
  "kernelspec": {
   "display_name": "web-ext",
   "language": "python",
   "name": "python3"
  },
  "language_info": {
   "codemirror_mode": {
    "name": "ipython",
    "version": 3
   },
   "file_extension": ".py",
   "mimetype": "text/x-python",
   "name": "python",
   "nbconvert_exporter": "python",
   "pygments_lexer": "ipython3",
   "version": "3.9.19"
  }
 },
 "nbformat": 4,
 "nbformat_minor": 2
}
