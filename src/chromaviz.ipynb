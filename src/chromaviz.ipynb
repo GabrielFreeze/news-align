{
 "cells": [
  {
   "cell_type": "code",
   "execution_count": 2,
   "metadata": {},
   "outputs": [],
   "source": [
    "import chromadb\n",
    "import chromaviz\n",
    "from vector_db.utils import ImageEmbeddingFunction, TextEmbeddingFunction, format_document\n",
    "\n",
    "client = chromadb.HttpClient(host=\"localhost\",port=8000)\n",
    "txt_fn = TextEmbeddingFunction(remote=True)\n",
    "txt_collection = client.get_or_create_collection(name=\"text_collection\",embedding_function=txt_fn)\n",
    "\n"
   ]
  },
  {
   "cell_type": "code",
   "execution_count": 9,
   "metadata": {},
   "outputs": [
    {
     "name": "stderr",
     "output_type": "stream",
     "text": [
      "WARNING: This is a development server. Do not use it in a production deployment. Use a production WSGI server instead.\n",
      " * Running on http://127.0.0.1:5000\n",
      "Press CTRL+C to quit\n",
      "127.0.0.1 - - [20/Jan/2025 16:00:42] \"GET / HTTP/1.1\" 200 -\n",
      "127.0.0.1 - - [20/Jan/2025 16:00:42] \"GET /assets/index-351494fc.js HTTP/1.1\" 200 -\n",
      "127.0.0.1 - - [20/Jan/2025 16:00:42] \"GET /assets/index-26d05a53.css HTTP/1.1\" 200 -\n",
      "c:\\Users\\User\\anaconda3\\envs\\vectordb\\lib\\site-packages\\sklearn\\manifold\\_t_sne.py:1162: FutureWarning: 'n_iter' was renamed to 'max_iter' in version 1.5 and will be removed in 1.7.\n",
      "  warnings.warn(\n"
     ]
    },
    {
     "name": "stdout",
     "output_type": "stream",
     "text": [
      "          0         1         2         3         4         5         6    \\\n",
      "0    0.029590  0.041380 -0.001126 -0.025013  0.027031  0.039173  0.014570   \n",
      "1   -0.022575  0.042374 -0.001197 -0.035627  0.036295 -0.005528 -0.004150   \n",
      "2    0.045637  0.021759 -0.014016 -0.023399  0.045842 -0.007086 -0.030914   \n",
      "3   -0.036855  0.022801 -0.007959 -0.031883  0.032469  0.031488  0.010721   \n",
      "4    0.005314  0.029900 -0.007693 -0.031295  0.072329  0.031393 -0.050319   \n",
      "..        ...       ...       ...       ...       ...       ...       ...   \n",
      "227 -0.024562  0.025046 -0.010151 -0.062614  0.003101  0.004584 -0.006461   \n",
      "228 -0.041862 -0.030321 -0.002284 -0.007389  0.011630  0.002500 -0.050777   \n",
      "229 -0.037697 -0.018343 -0.001862  0.003088  0.015433  0.016076 -0.043800   \n",
      "230  0.010950  0.065833 -0.010416 -0.033514  0.053143 -0.004405 -0.000951   \n",
      "231 -0.033772  0.045447 -0.005651 -0.050161 -0.002156  0.015347 -0.017641   \n",
      "\n",
      "          7         8         9    ...       758       759       760  \\\n",
      "0    0.084772  0.005826  0.020314  ...  0.043944 -0.043368  0.021007   \n",
      "1    0.035166 -0.016228  0.052264  ...  0.021582 -0.061455  0.013466   \n",
      "2    0.039939 -0.044508 -0.001743  ...  0.052771 -0.031575  0.017743   \n",
      "3    0.035177 -0.009468  0.051328  ...  0.032464 -0.044034  0.011882   \n",
      "4    0.040805 -0.019225  0.057439  ...  0.055638 -0.037170  0.001637   \n",
      "..        ...       ...       ...  ...       ...       ...       ...   \n",
      "227  0.035583 -0.024517  0.028584  ...  0.036128 -0.049452  0.033814   \n",
      "228  0.026970 -0.009761  0.010968  ...  0.063101 -0.015319  0.017068   \n",
      "229  0.028729 -0.006033  0.011691  ...  0.058195 -0.031836  0.023226   \n",
      "230  0.027194 -0.024759  0.036563  ...  0.034993 -0.012059  0.060656   \n",
      "231  0.033463 -0.005773  0.006708  ...  0.042530 -0.031258  0.002419   \n",
      "\n",
      "          761       762       763       764       765       766       767  \n",
      "0   -0.002209  0.062207  0.008277 -0.010662 -0.016084 -0.054934 -0.045149  \n",
      "1    0.025091  0.072942  0.002628  0.004041  0.038200 -0.022468 -0.019938  \n",
      "2   -0.017719  0.041451  0.058236  0.040446 -0.014044 -0.052787 -0.023301  \n",
      "3    0.009848  0.016030  0.028308  0.032183 -0.020903 -0.062398 -0.049408  \n",
      "4    0.020560  0.036128  0.007164  0.031520  0.022653 -0.039307 -0.043152  \n",
      "..        ...       ...       ...       ...       ...       ...       ...  \n",
      "227  0.008780  0.027053 -0.002594 -0.022665  0.003307 -0.066908 -0.034794  \n",
      "228 -0.028458  0.059951  0.050876  0.075947  0.008474 -0.045657 -0.059395  \n",
      "229 -0.033323  0.063317  0.055568  0.063712  0.018428 -0.046485 -0.053480  \n",
      "230 -0.003170 -0.006210  0.043476  0.034353 -0.031126 -0.024391 -0.002930  \n",
      "231  0.025519  0.007682  0.021246 -0.000920 -0.024516 -0.053507 -0.036903  \n",
      "\n",
      "[232 rows x 768 columns]\n",
      "Size of the dataframe: (232, 768)\n",
      "Cumulative explained variation for 50 principal components: 0.7282213668210672\n"
     ]
    },
    {
     "name": "stderr",
     "output_type": "stream",
     "text": [
      "127.0.0.1 - - [20/Jan/2025 16:00:43] \"GET /data HTTP/1.1\" 200 -\n"
     ]
    },
    {
     "name": "stdout",
     "output_type": "stream",
     "text": [
      "t-SNE done! Time elapsed: 0.5136706829071045 seconds\n"
     ]
    }
   ],
   "source": [
    "articles = txt_collection.query(\n",
    "    query_texts=\"Valletta\",\n",
    "    include=[\"documents\", \"metadatas\", \"embeddings\",'distances'],\n",
    "    n_results=10_000\n",
    ")\n",
    "\n",
    "distance_threshold = 0.85\n",
    "\n",
    "# Filter the results by distance\n",
    "filtered_results = {\n",
    "    \"ids\": [],\n",
    "    \"documents\": [],\n",
    "    \"metadatas\": [],\n",
    "    \"embeddings\": [],\n",
    "}\n",
    "\n",
    "for i, distance in enumerate(articles['distances'][0]):\n",
    "    if distance < distance_threshold:\n",
    "        \n",
    "        metadata = articles['metadatas'][0][i]\n",
    "        metadata = {key: metadata[key] for key in ['title','author','date','url']}\n",
    "        \n",
    "        filtered_results['ids']       .append(None)\n",
    "        filtered_results['documents'] .append(f\"{metadata['title']}\")\n",
    "        filtered_results['metadatas'] .append(metadata)\n",
    "        filtered_results['embeddings'].append(articles['embeddings'][0][i])\n",
    "        \n",
    "chromaviz.visualize_collection(filtered_results)\n"
   ]
  },
  {
   "cell_type": "code",
   "execution_count": 75,
   "metadata": {},
   "outputs": [
    {
     "data": {
      "text/plain": [
       "dict"
      ]
     },
     "execution_count": 75,
     "metadata": {},
     "output_type": "execute_result"
    }
   ],
   "source": [
    "## visualize_collection functionis edited like so:\n",
    "\n",
    "\n",
    "# def visualize_collection(col: Union[chromadb.api.models.Collection.Collection,dict], port: int = 5000):\n",
    "#     global data\n",
    "    \n",
    "#     if type(col) is chromadb.api.models.Collection.Collection:\n",
    "#         data = col.get(include=[\"documents\", \"metadatas\", \"embeddings\"])\n",
    "#     else:\n",
    "#         data = col\n",
    "    \n",
    "#     webbrowser.open(f\"http://127.0.0.1:{str(port)}\")\n",
    "#     app.run(port=port, debug=False)\n",
    "#     return"
   ]
  }
 ],
 "metadata": {
  "kernelspec": {
   "display_name": "vectordb",
   "language": "python",
   "name": "python3"
  },
  "language_info": {
   "codemirror_mode": {
    "name": "ipython",
    "version": 3
   },
   "file_extension": ".py",
   "mimetype": "text/x-python",
   "name": "python",
   "nbconvert_exporter": "python",
   "pygments_lexer": "ipython3",
   "version": "3.9.19"
  }
 },
 "nbformat": 4,
 "nbformat_minor": 2
}
