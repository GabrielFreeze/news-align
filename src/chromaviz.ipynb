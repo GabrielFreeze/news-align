{
 "cells": [
  {
   "cell_type": "code",
   "execution_count": 1,
   "metadata": {},
   "outputs": [],
   "source": [
    "import chromadb\n",
    "import chromaviz\n",
    "from vector_db.utils import ImageEmbeddingFunction, TextEmbeddingFunction, format_document\n",
    "\n",
    "client = chromadb.HttpClient(host=\"localhost\",port=8000)\n",
    "txt_fn = TextEmbeddingFunction(remote=True)\n",
    "txt_collection = client.get_or_create_collection(name=\"text_collection\",embedding_function=txt_fn)"
   ]
  },
  {
   "cell_type": "code",
   "execution_count": null,
   "metadata": {},
   "outputs": [
    {
     "name": "stderr",
     "output_type": "stream",
     "text": [
      "WARNING: This is a development server. Do not use it in a production deployment. Use a production WSGI server instead.\n",
      " * Running on http://127.0.0.1:5000\n",
      "Press CTRL+C to quit\n",
      "127.0.0.1 - - [20/Jan/2025 19:24:22] \"GET / HTTP/1.1\" 200 -\n",
      "127.0.0.1 - - [20/Jan/2025 19:24:22] \"GET /assets/index-26d05a53.css HTTP/1.1\" 200 -\n",
      "127.0.0.1 - - [20/Jan/2025 19:24:22] \"GET /assets/index-351494fc.js HTTP/1.1\" 200 -\n"
     ]
    },
    {
     "name": "stdout",
     "output_type": "stream",
     "text": [
      "          0         1         2         3         4         5         6    \\\n",
      "0   -0.013363  0.021498 -0.004832  0.032021  0.054760  0.025471 -0.037672   \n",
      "1   -0.013363  0.021498 -0.004832  0.032021  0.054760  0.025471 -0.037672   \n",
      "2   -0.019991  0.044264 -0.011870 -0.025980  0.068390  0.005037 -0.042827   \n",
      "3   -0.023656  0.046633 -0.020923 -0.043056  0.061697 -0.030517 -0.032354   \n",
      "4    0.011787  0.065839 -0.007669 -0.043309  0.047366 -0.001030 -0.009059   \n",
      "..        ...       ...       ...       ...       ...       ...       ...   \n",
      "249 -0.022696 -0.005713 -0.008518 -0.063473  0.006570  0.033273  0.011728   \n",
      "250 -0.003909  0.026510 -0.022118 -0.023506  0.024435 -0.000935 -0.024691   \n",
      "251 -0.035515  0.023360 -0.027310  0.002674  0.055024 -0.015664 -0.004699   \n",
      "252  0.025318  0.023757 -0.026648 -0.034519  0.034081  0.022066 -0.010265   \n",
      "253  0.000561  0.076558 -0.015161  0.000315  0.014631 -0.002959 -0.021426   \n",
      "\n",
      "          7         8         9    ...       758       759       760  \\\n",
      "0    0.056147 -0.005042 -0.008989  ... -0.019618  0.011729  0.032074   \n",
      "1    0.056147 -0.005042 -0.008989  ... -0.019618  0.011729  0.032074   \n",
      "2    0.026419 -0.020064  0.001514  ...  0.001139  0.015269  0.083083   \n",
      "3    0.061740 -0.020887  0.022847  ... -0.006326 -0.003362  0.043753   \n",
      "4    0.019135  0.000127  0.023492  ...  0.002897  0.016488  0.044615   \n",
      "..        ...       ...       ...  ...       ...       ...       ...   \n",
      "249  0.052470 -0.026151 -0.001472  ... -0.032240 -0.008990  0.011452   \n",
      "250 -0.020291 -0.012764 -0.012384  ...  0.027160 -0.034963  0.036387   \n",
      "251  0.039193 -0.043430 -0.038916  ...  0.041038 -0.040594  0.015418   \n",
      "252  0.044256 -0.021278 -0.031174  ...  0.042881 -0.005807  0.057259   \n",
      "253  0.019011 -0.027317  0.004765  ...  0.017211 -0.016721  0.055785   \n",
      "\n",
      "          761       762       763       764       765       766       767  \n",
      "0   -0.015474  0.022182  0.043295  0.038624 -0.013065 -0.045539 -0.055569  \n",
      "1   -0.015474  0.022182  0.043295  0.038624 -0.013065 -0.045539 -0.055569  \n",
      "2   -0.001288  0.011383  0.021368  0.036483  0.022584 -0.027303 -0.025220  \n",
      "3    0.007763  0.054367  0.020321  0.033407  0.023361 -0.023187 -0.079337  \n",
      "4   -0.019654  0.036840  0.010912  0.037984  0.043605 -0.049193  0.024504  \n",
      "..        ...       ...       ...       ...       ...       ...       ...  \n",
      "249 -0.014808  0.015537  0.036214  0.000376  0.028907 -0.001631 -0.048503  \n",
      "250 -0.039521  0.032628  0.001903  0.027473  0.058489 -0.041191  0.004642  \n",
      "251 -0.002701  0.018250  0.041550  0.025206  0.029458 -0.038299 -0.033506  \n",
      "252 -0.023906  0.052309  0.026912  0.016644  0.021546  0.005399 -0.025708  \n",
      "253  0.001531  0.016186  0.029793  0.038768 -0.022872 -0.036511 -0.024381  \n",
      "\n",
      "[254 rows x 768 columns]\n",
      "Size of the dataframe: (254, 768)\n",
      "Cumulative explained variation for 50 principal components: 0.743596676974997\n"
     ]
    },
    {
     "name": "stderr",
     "output_type": "stream",
     "text": [
      "c:\\Users\\User\\anaconda3\\envs\\vectordb\\lib\\site-packages\\sklearn\\manifold\\_t_sne.py:1162: FutureWarning: 'n_iter' was renamed to 'max_iter' in version 1.5 and will be removed in 1.7.\n",
      "  warnings.warn(\n",
      "127.0.0.1 - - [20/Jan/2025 19:24:23] \"GET /data HTTP/1.1\" 200 -\n"
     ]
    },
    {
     "name": "stdout",
     "output_type": "stream",
     "text": [
      "t-SNE done! Time elapsed: 0.5595312118530273 seconds\n"
     ]
    }
   ],
   "source": [
    "articles = txt_collection.query(\n",
    "    query_texts=\"Ħamrun\",\n",
    "    include=[\"documents\", \"metadatas\", \"embeddings\",'distances'],\n",
    "    n_results=10_000\n",
    ")\n",
    "\n",
    "distance_threshold = 1\n",
    "\n",
    "# Filter the results by distance\n",
    "filtered_results = {\n",
    "    \"ids\": [],\n",
    "    \"documents\": [],\n",
    "    \"metadatas\": [],\n",
    "    \"embeddings\": [],\n",
    "}\n",
    "\n",
    "for i, distance in enumerate(articles['distances'][0]):\n",
    "    if distance < distance_threshold:\n",
    "        \n",
    "        metadata = articles['metadatas'][0][i]\n",
    "        metadata = {key: metadata[key] for key in ['title','author','date','url']}\n",
    "        \n",
    "        filtered_results['ids']       .append(None)\n",
    "        filtered_results['documents'] .append(f\"{metadata['title']}\")\n",
    "        filtered_results['metadatas'] .append(metadata)\n",
    "        filtered_results['embeddings'].append(articles['embeddings'][0][i])\n",
    "        \n",
    "chromaviz.visualize_collection(filtered_results)\n"
   ]
  },
  {
   "cell_type": "code",
   "execution_count": 75,
   "metadata": {},
   "outputs": [
    {
     "data": {
      "text/plain": [
       "dict"
      ]
     },
     "execution_count": 75,
     "metadata": {},
     "output_type": "execute_result"
    }
   ],
   "source": [
    "## visualize_collection functionis edited like so:\n",
    "\n",
    "\n",
    "# def visualize_collection(col: Union[chromadb.api.models.Collection.Collection,dict], port: int = 5000):\n",
    "#     global data\n",
    "    \n",
    "#     if type(col) is chromadb.api.models.Collection.Collection:\n",
    "#         data = col.get(include=[\"documents\", \"metadatas\", \"embeddings\"])\n",
    "#     else:\n",
    "#         data = col\n",
    "    \n",
    "#     webbrowser.open(f\"http://127.0.0.1:{str(port)}\")\n",
    "#     app.run(port=port, debug=False)\n",
    "#     return"
   ]
  }
 ],
 "metadata": {
  "kernelspec": {
   "display_name": "vectordb",
   "language": "python",
   "name": "python3"
  },
  "language_info": {
   "codemirror_mode": {
    "name": "ipython",
    "version": 3
   },
   "file_extension": ".py",
   "mimetype": "text/x-python",
   "name": "python",
   "nbconvert_exporter": "python",
   "pygments_lexer": "ipython3",
   "version": "3.9.19"
  }
 },
 "nbformat": 4,
 "nbformat_minor": 2
}
